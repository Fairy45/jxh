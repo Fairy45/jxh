{
 "cells": [
  {
   "cell_type": "code",
   "execution_count": null,
   "metadata": {},
   "outputs": [
    {
     "name": "stdout",
     "output_type": "stream",
     "text": [
      "请选择人机或者多人对战！\n",
      "输入赵云\n",
      "您选的是 赵云\n",
      "请从典韦、赵云、鲁班中挑选一个人物！\n"
     ]
    }
   ],
   "source": [
    "class Wangzhe(object):\n",
    "    def __init__(self):\n",
    "        pass\n",
    "    def renji(self):\n",
    "        print('请选择人机或者多人对战！')\n",
    "        res = input('输入')\n",
    "        print(\"您选的是\",res)\n",
    "        self.res=res\n",
    "    def tiaoxuan(self):\n",
    "        print('请从典韦、赵云、鲁班中挑选一个人物！')\n",
    "        ren = input('输入')\n",
    "        print(\"您选的是\",ren)\n",
    "        self.ren=ren\n",
    "    def xianshizhanli(self):\n",
    "        if self.ren == '典韦':\n",
    "            plt.imshow(dianwei) # 显示图片\n",
    "            plt.axis('off') # 不显示坐标轴\n",
    "            plt.show()\n",
    "            print(\"您选择的典韦战力为10000，防御力为5000\")\n",
    "        elif self.ren == '赵云':\n",
    "            plt.imshow(zhaoyun) \n",
    "            plt.axis('off')\n",
    "            plt.show()\n",
    "            print(\"您选择的赵云战力为20000，防御力为2000\")\n",
    "        else:\n",
    "            plt.imshow(luban) \n",
    "            plt.axis('off') \n",
    "            plt.show()\n",
    "            print(\"您选择的鲁班战力为15000，防御力为3500\")\n",
    "    def renwuqueding(self):\n",
    "        print(\"您的人物以确定，现在系统随机为您生成对战玩家\")\n",
    "        q = np.random.choice(['典韦','赵云','鲁班'])\n",
    "        print('您的对手为',q)\n",
    "    def kaishi(self):\n",
    "        print(\"请输入开始\")\n",
    "        w = input('输入')\n",
    "        if w == \"开始\":\n",
    "            print(\"输入正确\")\n",
    "        else:\n",
    "            print(\"输入有误！\")\n",
    "    def jiazai(self):\n",
    "        print('正在加载，请耐心等待！')\n",
    "        plt.imshow(luban) \n",
    "        plt.axis('off')\n",
    "        plt.show()\n",
    "qwe = Wangzhe()\n",
    "qwe.renji()\n",
    "qwe.tiaoxuan()\n",
    "qwe.xianshizhanli()\n",
    "qwe.renwuqueding()\n",
    "qwe.kaishi()\n",
    "qwe.jiazai()"
   ]
  },
  {
   "cell_type": "code",
   "execution_count": null,
   "metadata": {},
   "outputs": [],
   "source": []
  }
 ],
 "metadata": {
  "kernelspec": {
   "display_name": "Python 3",
   "language": "python",
   "name": "python3"
  },
  "language_info": {
   "codemirror_mode": {
    "name": "ipython",
    "version": 3
   },
   "file_extension": ".py",
   "mimetype": "text/x-python",
   "name": "python",
   "nbconvert_exporter": "python",
   "pygments_lexer": "ipython3",
   "version": "3.7.3"
  }
 },
 "nbformat": 4,
 "nbformat_minor": 2
}
