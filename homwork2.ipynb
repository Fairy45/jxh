{
 "cells": [
  {
   "cell_type": "markdown",
   "metadata": {},
   "source": [
    "1"
   ]
  },
  {
   "cell_type": "code",
   "execution_count": 1,
   "metadata": {},
   "outputs": [
    {
     "name": "stdout",
     "output_type": "stream",
     "text": [
      "请输入宽：2\n",
      "请输入高：5\n",
      "宽是：2.00,高是：5.00\n",
      "面积是：10.0000\n",
      "周长是：14.0000\n"
     ]
    }
   ],
   "source": [
    "import math\n",
    "class Rectangle(object):\n",
    "    def __init__(self,width,height):\n",
    "        self.width=width\n",
    "        self.height=height\n",
    "        print('宽是：%.2f,高是：%.2f'% (width,height))\n",
    "    def getArea(self):\n",
    "        return self.width*self.height\n",
    "    def getPerimeter(self):\n",
    "        \n",
    "        return 2*(self.width+self.height)\n",
    "if __name__ == \"__main__\":\n",
    "    width=float(input('请输入宽：'))\n",
    "    height=float(input('请输入高：'))\n",
    "    r=Rectangle(width,height)\n",
    "    print('面积是：%.4f'% r.getArea())\n",
    "    print('周长是：%.4f'% r.getPerimeter())"
   ]
  },
  {
   "cell_type": "markdown",
   "metadata": {},
   "source": [
    "2"
   ]
  },
  {
   "cell_type": "code",
   "execution_count": null,
   "metadata": {},
   "outputs": [],
   "source": []
  },
  {
   "cell_type": "markdown",
   "metadata": {},
   "source": [
    "3"
   ]
  },
  {
   "cell_type": "code",
   "execution_count": 2,
   "metadata": {},
   "outputs": [
    {
     "name": "stdout",
     "output_type": "stream",
     "text": [
      "选择速度：2\n",
      "on or off5\n",
      "半径是：2\n",
      "颜色是：1\n",
      "MEDIUM\n",
      "关闭\n",
      "2.0\n",
      "1\n"
     ]
    }
   ],
   "source": [
    "class Fan(object):\n",
    "    def __init__(self,speed=1,on=False,r=5,color='blue'):\n",
    "        self.SLOW=1\n",
    "        self.MEDIUM=2\n",
    "        self.FAST=3\n",
    "        self.__speed=int(speed)\n",
    "        self.__on=bool(on)\n",
    "        self.__r=float(r)\n",
    "        self.__color=str(color)       \n",
    "    def prints(self):\n",
    "        if self.__speed==1:\n",
    "            print('SLOW')\n",
    "        elif self.__speed==2:\n",
    "            print('MEDIUM')\n",
    "        elif self.__speed==3:\n",
    "            print('FAST')\n",
    "        if self.__on=='on':\n",
    "            print('打开')\n",
    "        else:\n",
    "            print('关闭')       \n",
    "        print(self.__r)\n",
    "        print(self.__color)\n",
    "if __name__ == \"__main__\":\n",
    "    speed=int(input('选择速度：'))\n",
    "    on=bool(input('on or off'))\n",
    "    r=float(input('半径是：'))\n",
    "    color=str(input('颜色是：'))\n",
    "    fan=Fan(speed,on,r,color)\n",
    "    fan.prints()"
   ]
  },
  {
   "cell_type": "markdown",
   "metadata": {},
   "source": [
    "4"
   ]
  },
  {
   "cell_type": "code",
   "execution_count": 3,
   "metadata": {},
   "outputs": [
    {
     "name": "stdout",
     "output_type": "stream",
     "text": [
      "请输入边数：2\n",
      "请输入边长：4\n",
      "请输入x轴坐标：2\n",
      "请输入y轴坐标：2\n",
      "周长是:8.0000\n",
      "面积130649914825562960.0000\n"
     ]
    }
   ],
   "source": [
    "import math\n",
    "\n",
    "class RegularPolygon(object):\n",
    "    def __init__(self,n=3,side=1,x=0,y=0):\n",
    "        self.__n=int(n)\n",
    "        self.__side=float(side)\n",
    "        self.__x=float(x)\n",
    "        self.__y=float(y)\n",
    "    def getPerimetetr(self):\n",
    "        print('周长是:%.4f'% (self.__n*self.__side )) \n",
    "    def getArea(self):\n",
    "        self.s=self.__n*(self.__side**2)/4*math.tan(math.pi/self.__n)\n",
    "        print('面积%.4f'% self.s)\n",
    "if __name__ == \"__main__\":\n",
    "    n=int(input('请输入边数：'))\n",
    "    side=float(input('请输入边长：'))\n",
    "    x=float(input('请输入x轴坐标：'))\n",
    "    y=float(input('请输入y轴坐标：'))\n",
    "    r=RegularPolygon(n,side,x,y)\n",
    "    r.getPerimetetr()\n",
    "    r.getArea()"
   ]
  },
  {
   "cell_type": "markdown",
   "metadata": {},
   "source": [
    "6"
   ]
  },
  {
   "cell_type": "code",
   "execution_count": null,
   "metadata": {},
   "outputs": [],
   "source": []
  },
  {
   "cell_type": "markdown",
   "metadata": {},
   "source": [
    "7"
   ]
  },
  {
   "cell_type": "code",
   "execution_count": null,
   "metadata": {},
   "outputs": [],
   "source": [
    "class LinearEquation(object):   \n",
    "    def __init__(self,a,b,c,d,e,f):\n",
    "        self.__a=a\n",
    "        self.__b=b\n",
    "        self.__c=c\n",
    "        self.__d=d\n",
    "        self.__e=e\n",
    "        self.__f=f           \n",
    "    def set_a(self,a):\n",
    "        self.__a=a\n",
    "    def get_a(self):\n",
    "        return self.__a\n",
    "    def set_b(self,b):\n",
    "        self.__b=b\n",
    "    def get_b(self):\n",
    "        return self.___b\n",
    "    def set_c(self,c):\n",
    "        self.__c=c\n",
    "    def get_c(self):\n",
    "        return self.__c\n",
    "    def set_d(self,d):\n",
    "        self.__d=d\n",
    "    def get_d(self):\n",
    "        return self.__d\n",
    "    def set_e(self,e):\n",
    "        self.__e=e\n",
    "    def get_e(self):\n",
    "        return self.__e\n",
    "    def set_f(self,f):\n",
    "        self.__f=f\n",
    "    def get_f(self):\n",
    "        return self.__f\n",
    "    def isSolvable(self):\n",
    "        if (self.__a*self.__d)-(self.__c*self.__b)!=0:\n",
    "            return True\n",
    "        else:\n",
    "            return print('此方程无解')\n",
    "    def getX(self):\n",
    "        s=(self.__a*self.__d)-(self.__b*self.__c)\n",
    "        x=(self.__e*self.__d)-(self.__b*self.__f)/s\n",
    "        print('X的值为：%.2f'% x)\n",
    "    def getY(self):\n",
    "        s=(self.__a*self.__d)-(self.__b*self.__c)\n",
    "        y=(self.__a*self.__f)-(self.__e*self.__c)/s\n",
    "        print('Y的值为：%.2f'% y)\n",
    "if __name__==\"__main__\":\n",
    "    a=int(input('a的值是：'))\n",
    "    b=int(input('b的值是：'))\n",
    "    c=int(input('c的值是：'))\n",
    "    d=int(input('d的值是：'))\n",
    "    e=int(input('e的值是：'))\n",
    "    f=int(input('f的值是：'))\n",
    "    l=LinearEquation(a,b,c,d,e,f)\n",
    "    l.isSolvable()\n",
    "    l.getX()\n",
    "    l.getY()"
   ]
  },
  {
   "cell_type": "code",
   "execution_count": null,
   "metadata": {},
   "outputs": [],
   "source": []
  }
 ],
 "metadata": {
  "kernelspec": {
   "display_name": "Python 3",
   "language": "python",
   "name": "python3"
  },
  "language_info": {
   "codemirror_mode": {
    "name": "ipython",
    "version": 3
   },
   "file_extension": ".py",
   "mimetype": "text/x-python",
   "name": "python",
   "nbconvert_exporter": "python",
   "pygments_lexer": "ipython3",
   "version": "3.7.3"
  }
 },
 "nbformat": 4,
 "nbformat_minor": 2
}
