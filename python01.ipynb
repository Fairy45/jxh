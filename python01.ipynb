{
 "cells": [
  {
   "cell_type": "code",
   "execution_count": 1,
   "metadata": {},
   "outputs": [
    {
     "name": "stdout",
     "output_type": "stream",
     "text": [
      "4\n"
     ]
    }
   ],
   "source": [
    "def joker (x):\n",
    "    return x ** 2 \n",
    "print (joker(2))\n",
    "\n",
    "   "
   ]
  },
  {
   "cell_type": "code",
   "execution_count": 20,
   "metadata": {},
   "outputs": [
    {
     "name": "stdout",
     "output_type": "stream",
     "text": [
      "hello\n"
     ]
    },
    {
     "data": {
      "text/plain": [
       "<__main__.student at 0x1f69983e6a0>"
      ]
     },
     "execution_count": 20,
     "metadata": {},
     "output_type": "execute_result"
    }
   ],
   "source": [
    "class student(object):\n",
    "    print('hello')\n",
    "student()\n",
    "# object 不是一个参数"
   ]
  },
  {
   "cell_type": "code",
   "execution_count": 42,
   "metadata": {
    "collapsed": true
   },
   "outputs": [
    {
     "name": "stdout",
     "output_type": "stream",
     "text": [
      "10 2 24 1.5 1 2\n"
     ]
    },
    {
     "data": {
      "text/plain": [
       "<__main__.jxh at 0x249fdd7c1d0>"
      ]
     },
     "execution_count": 42,
     "metadata": {},
     "output_type": "execute_result"
    }
   ],
   "source": [
    "class jxh(object):\n",
    "    def __init__(self,a,b):\n",
    "        print(a+b,a-b,a*b,a/b,a//b,a%b)\n",
    "jxh(6,4)       "
   ]
  },
  {
   "cell_type": "code",
   "execution_count": 29,
   "metadata": {},
   "outputs": [
    {
     "name": "stdout",
     "output_type": "stream",
     "text": [
      "动画片\n"
     ]
    },
    {
     "data": {
      "text/plain": [
       "<__main__.year at 0x1f69984a550>"
      ]
     },
     "execution_count": 29,
     "metadata": {},
     "output_type": "execute_result"
    }
   ],
   "source": [
    "class year(object):\n",
    "    def __init__(self,y):\n",
    "        if y>18:\n",
    "            print('岛国爱情片')\n",
    "        else: \n",
    "            print('动画片')\n",
    "year(14)\n",
    "    "
   ]
  },
  {
   "cell_type": "code",
   "execution_count": 36,
   "metadata": {},
   "outputs": [
    {
     "name": "stdout",
     "output_type": "stream",
     "text": [
      "4级片\n"
     ]
    },
    {
     "data": {
      "text/plain": [
       "<__main__.year at 0x1f6998220b8>"
      ]
     },
     "execution_count": 36,
     "metadata": {},
     "output_type": "execute_result"
    }
   ],
   "source": [
    "class year(object):\n",
    "    def __init__(self,y):\n",
    "        if y>18 and y<20:\n",
    "            print('4级片')\n",
    "        if y>20 and y<50: \n",
    "            print('岛国')\n",
    "        if y>50:\n",
    "            print('别看了')\n",
    "            \n",
    "year(19)"
   ]
  },
  {
   "cell_type": "code",
   "execution_count": 37,
   "metadata": {},
   "outputs": [
    {
     "name": "stdout",
     "output_type": "stream",
     "text": [
      "4级片\n"
     ]
    },
    {
     "data": {
      "text/plain": [
       "<__main__.year at 0x1f699822160>"
      ]
     },
     "execution_count": 37,
     "metadata": {},
     "output_type": "execute_result"
    }
   ],
   "source": [
    "class year(object):\n",
    "    def __init__(self,y):\n",
    "        if 18<=y<=20:\n",
    "            print('4级片')\n",
    "        elif 20<y<=50: \n",
    "            print('岛国')\n",
    "        else:\n",
    "            print('别看了')\n",
    "            \n",
    "year(19)"
   ]
  },
  {
   "cell_type": "code",
   "execution_count": 54,
   "metadata": {},
   "outputs": [
    {
     "name": "stdout",
     "output_type": "stream",
     "text": [
      "青年\n",
      "未知\n"
     ]
    }
   ],
   "source": [
    "class Jxh(object):\n",
    "    def __init__(self,a,b):\n",
    "        self.a = a\n",
    "        self.b = b\n",
    "    def func1(self):\n",
    "        if self.a >40:\n",
    "             print('老年')\n",
    "        elif self.a >18:\n",
    "            print('中年')\n",
    "        else:\n",
    "            print('青年')\n",
    "    def func2(self):\n",
    "        if self.b == \"男\":\n",
    "            print(\"男人\")\n",
    "        elif self.b == \"女\":\n",
    "            print(\"女人\")\n",
    "        else:\n",
    "            print(\"未知\")\n",
    "jxh = Jxh(12,\"女人\")\n",
    "jxh.func1()\n",
    "jxh.func2()"
   ]
  },
  {
   "cell_type": "code",
   "execution_count": 2,
   "metadata": {},
   "outputs": [
    {
     "name": "stdout",
     "output_type": "stream",
     "text": [
      "[1, 3, 5]\n"
     ]
    }
   ],
   "source": [
    "a=[1,5,3]\n",
    "a.sort()\n",
    "print(a)"
   ]
  },
  {
   "cell_type": "code",
   "execution_count": 119,
   "metadata": {},
   "outputs": [
    {
     "name": "stdout",
     "output_type": "stream",
     "text": [
      "非素数\n"
     ]
    }
   ],
   "source": [
    "class Jxh(object):\n",
    "    def __init__(self,a):\n",
    "        self.a = a\n",
    "    def nly(self):\n",
    "            for i in range(2,self.a):\n",
    "                if self.a % i == 0:\n",
    "                    print('非素数')\n",
    "                    break\n",
    "            else:\n",
    "                print('素数')\n",
    "      \n",
    "name = Jxh(12)\n",
    "name.nly()"
   ]
  },
  {
   "cell_type": "code",
   "execution_count": 7,
   "metadata": {},
   "outputs": [
    {
     "name": "stdout",
     "output_type": "stream",
     "text": [
      "典韦\n"
     ]
    }
   ],
   "source": [
    "import numpy as np\n",
    "res = np.random.choice(['典韦','赵云','鲁班'])\n",
    "print(res)"
   ]
  },
  {
   "cell_type": "code",
   "execution_count": 60,
   "metadata": {},
   "outputs": [
    {
     "name": "stdout",
     "output_type": "stream",
     "text": [
      "》》人机\n",
      "人机\n",
      "\n"
     ]
    }
   ],
   "source": [
    "class jy(object):\n",
    "    def __init__(self,a):\n",
    "        self.a = a\n",
    "        gh =input('》》')\n",
    "        if gh == ('人机'):\n",
    "            print('人机')\n",
    "        elif gh == ('多人对战'):\n",
    "            print('多人对战')\n",
    "        else:\n",
    "            print('开战')   \n",
    "    def choose(self):\n",
    "        print()\n",
    "name=jy('人机')\n",
    "name.choose()"
   ]
  },
  {
   "cell_type": "code",
   "execution_count": 12,
   "metadata": {},
   "outputs": [
    {
     "name": "stdout",
     "output_type": "stream",
     "text": [
      "输入密码\n",
      "1234\n",
      "请再次输入密码\n",
      "1234\n",
      "密码设置成功\n"
     ]
    }
   ],
   "source": [
    "class Jxh(object):\n",
    "    def __init__(self):\n",
    "        print('输入密码')\n",
    "        self.res = input()\n",
    "    def b (self) :\n",
    "        print('请再次输入密码')\n",
    "        red = input()\n",
    "        if  self.res == red:\n",
    "            print('密码设置成功')\n",
    "        else:\n",
    "            print('错误')\n",
    "    \n",
    "J=Jxh()\n",
    "J.b()"
   ]
  },
  {
   "cell_type": "code",
   "execution_count": 33,
   "metadata": {},
   "outputs": [
    {
     "name": "stdout",
     "output_type": "stream",
     "text": [
      "1010\n"
     ]
    }
   ],
   "source": [
    "class Num(object):\n",
    "    def __init__(self,a,b,c):\n",
    "        self.__a = a\n",
    "        self.__b = b\n",
    "        self.__c = c\n",
    "    @property\n",
    "    def a(self):\n",
    "        print(self.__a)\n",
    "    @a.setter\n",
    "    def a(self,a1):\n",
    "        self.__a = a1\n",
    "    def a1(self):\n",
    "        print(self.__a + self.__b + self.__c)\n",
    "        \n",
    "        \n",
    "num=Num(1,5,5)\n",
    "num.a = 1000\n",
    "num.a1()"
   ]
  },
  {
   "cell_type": "code",
   "execution_count": 41,
   "metadata": {},
   "outputs": [
    {
     "name": "stdout",
     "output_type": "stream",
     "text": [
      "哈哈哈\n",
      "啦啦\n"
     ]
    }
   ],
   "source": [
    "class Num(object):\n",
    "    def __init__(self):\n",
    "        self._mimi = '哈哈哈'\n",
    "        self._mima = '123456'\n",
    "        \n",
    "    @property\n",
    "    def mimi(self):\n",
    "        return self._mimi\n",
    "    @mimi.setter\n",
    "    def mimi(self,str_):\n",
    "        self._mimi = str_\n",
    "        \n",
    "        \n",
    "        \n",
    "num = Num()\n",
    "print(num.mimi)\n",
    "num.mimi = '啦啦'\n",
    "print(num.mimi)\n",
    "        "
   ]
  },
  {
   "cell_type": "code",
   "execution_count": 49,
   "metadata": {},
   "outputs": [
    {
     "name": "stdout",
     "output_type": "stream",
     "text": [
      "1000\n",
      "None\n"
     ]
    }
   ],
   "source": [
    "class Num(object):\n",
    "    def __init__(self):\n",
    "        self.__a = 1000\n",
    "    def A (self):\n",
    "        print(self.__a)\n",
    "num=Num()\n",
    "print(num.A())\n"
   ]
  },
  {
   "cell_type": "code",
   "execution_count": 54,
   "metadata": {},
   "outputs": [
    {
     "name": "stdout",
     "output_type": "stream",
     "text": [
      "1000\n"
     ]
    }
   ],
   "source": [
    "class Num(object):\n",
    "    __slots__ = ('a','b')\n",
    "    def __init__(self):\n",
    "        self.a = 1000\n",
    "num=Num()\n",
    "num.b = 1000\n",
    "print(num.b)"
   ]
  },
  {
   "cell_type": "code",
   "execution_count": 32,
   "metadata": {},
   "outputs": [
    {
     "name": "stdout",
     "output_type": "stream",
     "text": [
      "64\n"
     ]
    }
   ],
   "source": [
    "# 例题：输入四条边判断它是否是一个正方形，如果是计算面积\n",
    "class Zfx (object):\n",
    "    def __init__(self,a,b,c,d):\n",
    "        self.a = a\n",
    "        self.b = b\n",
    "        self.c = c\n",
    "        self.d = d\n",
    "    @staticmethod\n",
    "    def is_valid(a,b,c,d):\n",
    "        for i in [b,c,d]:\n",
    "            if i != a:\n",
    "                return False\n",
    "            else:\n",
    "                return True \n",
    "    def area(self):\n",
    "        if res == True:\n",
    "            area_=self.a*self.b\n",
    "            return area_\n",
    "zfx=Zfx(8,8,8,8)\n",
    "res = zfx.is_valid(8,8,8,8)\n",
    "if res==True:\n",
    "    print(zfx.area())\n"
   ]
  },
  {
   "cell_type": "code",
   "execution_count": 23,
   "metadata": {},
   "outputs": [
    {
     "name": "stdout",
     "output_type": "stream",
     "text": [
      "30\n"
     ]
    }
   ],
   "source": [
    "class A(object):\n",
    "    def __init__(self):\n",
    "        self.a=10\n",
    "        self.a1=20\n",
    "    def sum_(self):\n",
    "        SUM_=self.a+self.a1\n",
    "        return SUM_\n",
    "class B(A):\n",
    "    def __init__(self):\n",
    "        A. __init__(self)\n",
    "    def B1(self):\n",
    "        res = self.sum_()\n",
    "        print(res)\n",
    "b=B()\n",
    "b.B1()"
   ]
  },
  {
   "cell_type": "code",
   "execution_count": 35,
   "metadata": {},
   "outputs": [
    {
     "name": "stdout",
     "output_type": "stream",
     "text": [
      "200\n",
      "A1\n"
     ]
    }
   ],
   "source": [
    "class A(object):\n",
    "    def __init__(self):\n",
    "        self.a=111\n",
    "    def A1(self):\n",
    "        print('A1')\n",
    "#在类名中写上继承的类\n",
    "class B(A):\n",
    "    def __init__(self):\n",
    "        A. __init__(self)\n",
    "        self.a=200\n",
    "    def B1(self):\n",
    "        print('B1')\n",
    "c=B()\n",
    "print(c.a)\n",
    "c.A1()"
   ]
  },
  {
   "cell_type": "code",
   "execution_count": 27,
   "metadata": {},
   "outputs": [
    {
     "name": "stdout",
     "output_type": "stream",
     "text": [
      "a1+a2 200\n",
      "100 100\n"
     ]
    }
   ],
   "source": [
    "def deco(func):\n",
    "    def warp(a1,a2):\n",
    "        print('a1+a2',a1+a2)\n",
    "        return func(a1,a2)\n",
    "    return warp\n",
    "@deco\n",
    "def SUM(a1,a2):\n",
    "    print(a1,a2)\n",
    "SUM(100,100)"
   ]
  },
  {
   "cell_type": "code",
   "execution_count": 33,
   "metadata": {},
   "outputs": [
    {
     "name": "stdout",
     "output_type": "stream",
     "text": [
      "1565255554.80476\n"
     ]
    }
   ],
   "source": [
    "from time import time,localtime,sleep\n",
    "print(time())"
   ]
  },
  {
   "cell_type": "code",
   "execution_count": 34,
   "metadata": {},
   "outputs": [
    {
     "name": "stdout",
     "output_type": "stream",
     "text": [
      "100\n"
     ]
    }
   ],
   "source": [
    "class A(object):\n",
    "    def __init__(self):\n",
    "        self.jxh = 100\n",
    "    @classmethod\n",
    "    def a(cls):\n",
    "        return cls()\n",
    "c = A.a()\n",
    "print (c.jxh)"
   ]
  },
  {
   "cell_type": "code",
   "execution_count": null,
   "metadata": {},
   "outputs": [],
   "source": [
    "a = (x for x in range(100000000000) if x % 2== 0)\n",
    "for i in range(100):\n",
    "    print(next(a))"
   ]
  },
  {
   "cell_type": "code",
   "execution_count": 37,
   "metadata": {},
   "outputs": [
    {
     "name": "stdout",
     "output_type": "stream",
     "text": [
      "0 12 3\n",
      "36\n"
     ]
    }
   ],
   "source": [
    "def jxh(func):\n",
    "    def warp(n1,n2,n3):\n",
    "        num = n1 + n2 \n",
    "        return func(0,num,n3)\n",
    "    return warp\n",
    "#装饰器将前两个数字求和,函数本身第三个参数乘上这个和\n",
    "@jxh\n",
    "def SUM(num1,num2,num3):\n",
    "    print(num1,num2,num3)\n",
    "    print(num2 * num3)\n",
    "    \n",
    "SUM(10,2,3)"
   ]
  },
  {
   "cell_type": "code",
   "execution_count": 40,
   "metadata": {},
   "outputs": [
    {
     "name": "stdout",
     "output_type": "stream",
     "text": [
      "hello\n"
     ]
    }
   ],
   "source": [
    "def foo( ):\n",
    "    def bar( ):\n",
    "        return 'hello'\n",
    "    return bar( )\n",
    "a = foo( )\n",
    "print (a)"
   ]
  },
  {
   "cell_type": "code",
   "execution_count": null,
   "metadata": {},
   "outputs": [],
   "source": []
  }
 ],
 "metadata": {
  "kernelspec": {
   "display_name": "Python 3",
   "language": "python",
   "name": "python3"
  },
  "language_info": {
   "codemirror_mode": {
    "name": "ipython",
    "version": 3
   },
   "file_extension": ".py",
   "mimetype": "text/x-python",
   "name": "python",
   "nbconvert_exporter": "python",
   "pygments_lexer": "ipython3",
   "version": "3.7.3"
  }
 },
 "nbformat": 4,
 "nbformat_minor": 2
}
