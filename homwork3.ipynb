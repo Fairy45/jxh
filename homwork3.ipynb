{
 "cells": [
  {
   "cell_type": "code",
   "execution_count": 1,
   "metadata": {},
   "outputs": [
    {
     "name": "stdout",
     "output_type": "stream",
     "text": [
      "请输入您的密码:1245637\n",
      "密码必须包含大小写字母和数字\n",
      "请输入您的密码:jxhwii885522\n",
      "密码必须包含大小写字母和数字\n",
      "请输入您的密码:JXHWii88552\n",
      "密码格式正确\n"
     ]
    }
   ],
   "source": [
    "import re\n",
    "for i in range(5):\n",
    "    pwd = input(\"请输入您的密码:\")\n",
    "    if len(pwd) <5 and len(pwd) >18:\n",
    "        print(\"密码长度为5到18位\")\n",
    "    else:\n",
    "        if re.match(\"^(?:(?=.*[A-Z])(?=.*[a-z])(?=.*[0-9])).*$\",pwd)==None:\n",
    "            \n",
    "            print('密码必须包含大小写字母和数字')\n",
    "            \n",
    "        else:\n",
    "            print (\"密码格式正确\")\n",
    "            break\n",
    "            \n",
    "else:\n",
    "    print(\"您今天最多可以输错五次\")"
   ]
  },
  {
   "cell_type": "code",
   "execution_count": 4,
   "metadata": {},
   "outputs": [
    {
     "name": "stdout",
     "output_type": "stream",
     "text": [
      "页面详情\n",
      "页面详情\n",
      "页面详情\n",
      "页面详情\n",
      "页面详情\n",
      "404\n",
      "404\n",
      "404\n",
      "404\n",
      "404\n"
     ]
    }
   ],
   "source": [
    "import time\n",
    "def count(func):\n",
    "    def warp(*args,**kwargs):\n",
    "        w = time.time()\n",
    "        e = int(w)-kwargs['time']\n",
    "        if e < 1 and kwargs['num']>4:\n",
    "            print(\"404\")\n",
    "        else:\n",
    "            return func(*args,**kwargs) \n",
    "            \n",
    "    return warp\n",
    "\n",
    "@count\n",
    "def A(num,time):\n",
    "    print(\"页面详情\")\n",
    "\n",
    "if __name__ == '__main__':\n",
    "    \n",
    "    q = time.time()\n",
    "    q_=int(q)\n",
    "    for i in range(10):\n",
    "        A(num=i,time=q_)"
   ]
  },
  {
   "cell_type": "code",
   "execution_count": 2,
   "metadata": {},
   "outputs": [
    {
     "name": "stdout",
     "output_type": "stream",
     "text": [
      "输入密码\n",
      "154897\n",
      "请再次输入密码\n",
      "152364\n",
      "错误\n"
     ]
    }
   ],
   "source": [
    "class Jxh(object):\n",
    "    def __init__(self):\n",
    "        print('输入密码')\n",
    "        self.res = input()\n",
    "    def b (self) :\n",
    "        print('请再次输入密码')\n",
    "        red = input()\n",
    "        if  self.res == red:\n",
    "            print('密码设置成功')\n",
    "        else:\n",
    "            print('错误')\n",
    "    \n",
    "J=Jxh()\n",
    "J.b()"
   ]
  },
  {
   "cell_type": "code",
   "execution_count": 3,
   "metadata": {},
   "outputs": [
    {
     "name": "stdout",
     "output_type": "stream",
     "text": [
      "三者之和为： 15\n",
      "三者之和为： 30\n"
     ]
    }
   ],
   "source": [
    "class Name(object):\n",
    "    def __init__(self,a,b,c):\n",
    "        self.__a=a\n",
    "        self.__b=b\n",
    "        self.__c=c\n",
    "        self.__d=0\n",
    "    @property\n",
    "    def A(self):\n",
    "        print(self.__a)\n",
    "    @A.setter\n",
    "    def A(self,a1):\n",
    "        self.__a=a1\n",
    "    @property\n",
    "    def B(self):\n",
    "        print(self.__b)\n",
    "    @A.setter\n",
    "    def B(self,b1):\n",
    "        self.__b=b1\n",
    "    @property\n",
    "    def C(self):\n",
    "        print(self.__c)\n",
    "    @A.setter\n",
    "    def C(self,c1):\n",
    "        self.__c=c1\n",
    "    def play(self):\n",
    "        print(\"三者之和为：\",self.__a+self.__b+self.__c)\n",
    "        \n",
    "j=Name(4,5,6)\n",
    "j.play()\n",
    "j.a1=10\n",
    "j.B=20\n",
    "j.play()"
   ]
  },
  {
   "cell_type": "code",
   "execution_count": 5,
   "metadata": {},
   "outputs": [
    {
     "name": "stdout",
     "output_type": "stream",
     "text": [
      "啦啦啦\n",
      "你想更改还是退出？\n",
      "退出\n"
     ]
    }
   ],
   "source": [
    "class Yinsi(object):\n",
    "    def __init__(self):\n",
    "        self.__ys=\"啦啦啦\"\n",
    "        self.__mima=\"000000\"\n",
    "    @property\n",
    "    def YS(self):\n",
    "        print(self.__ys)\n",
    "    @YS.setter\n",
    "    def YS(self,ys):\n",
    "        self.__ys=ys\n",
    "    def mima(self):\n",
    "        print(\"请输入密码：\")\n",
    "        res=input(\"\")\n",
    "        if res == self.__mima:\n",
    "            print(\"密码输入正确，请更改隐私内容！\")\n",
    "            ys=input(\"\")\n",
    "            self.YS=ys\n",
    "            print(\"内容成功修改为\",self.__ys)\n",
    "        else:\n",
    "            print(\"密码输入错误，请重新输入：\")\n",
    "            self.mima()\n",
    "    def wer(self):\n",
    "        print(\"你想更改还是退出？\")\n",
    "        we = input(\"\")\n",
    "        if we == \"更改\":\n",
    "            self.mima()\n",
    "        else:\n",
    "            pass\n",
    "j=Yinsi()\n",
    "j.YS\n",
    "j.wer()"
   ]
  },
  {
   "cell_type": "code",
   "execution_count": 6,
   "metadata": {},
   "outputs": [
    {
     "name": "stdout",
     "output_type": "stream",
     "text": [
      "鲁班\n"
     ]
    }
   ],
   "source": [
    "import numpy as np\n",
    "res = np.random.choice(['典韦','赵云','鲁班'])\n",
    "print(res)"
   ]
  },
  {
   "cell_type": "code",
   "execution_count": null,
   "metadata": {},
   "outputs": [],
   "source": []
  }
 ],
 "metadata": {
  "kernelspec": {
   "display_name": "Python 3",
   "language": "python",
   "name": "python3"
  },
  "language_info": {
   "codemirror_mode": {
    "name": "ipython",
    "version": 3
   },
   "file_extension": ".py",
   "mimetype": "text/x-python",
   "name": "python",
   "nbconvert_exporter": "python",
   "pygments_lexer": "ipython3",
   "version": "3.7.3"
  }
 },
 "nbformat": 4,
 "nbformat_minor": 2
}
