{
 "cells": [
  {
   "cell_type": "raw",
   "metadata": {},
   "source": [
    "1"
   ]
  },
  {
   "cell_type": "code",
   "execution_count": 7,
   "metadata": {},
   "outputs": [
    {
     "name": "stdout",
     "output_type": "stream",
     "text": [
      "1\t5\t12\t22\t35\t51\t70\t92\t117\t145\t\n",
      "176\t210\t247\t287\t330\t376\t425\t477\t532\t590\t\n",
      "651\t715\t782\t852\t925\t1001\t1080\t1162\t1247\t1335\t\n",
      "1426\t1520\t1617\t1717\t1820\t1926\t2035\t2147\t2262\t2380\t\n",
      "2501\t2625\t2752\t2882\t3015\t3151\t3290\t3432\t3577\t3725\t\n",
      "3876\t4030\t4187\t4347\t4510\t4676\t4845\t5017\t5192\t5370\t\n",
      "5551\t5735\t5922\t6112\t6305\t6501\t6700\t6902\t7107\t7315\t\n",
      "7526\t7740\t7957\t8177\t8400\t8626\t8855\t9087\t9322\t9560\t\n",
      "9801\t10045\t10292\t10542\t10795\t11051\t11310\t11572\t11837\t12105\t\n",
      "12376\t12650\t12927\t13207\t13490\t13776\t14065\t14357\t14652\t14950\t\n"
     ]
    }
   ],
   "source": [
    "def getPentagona(n):\n",
    "    a = int(n*(3*n-1)/2)\n",
    "    print(a,end='\\t')\n",
    "    if n % 10 == 0:\n",
    "        print()\n",
    "for i in range(1,101):        \n",
    "    getPentagona(i)"
   ]
  },
  {
   "cell_type": "markdown",
   "metadata": {},
   "source": [
    "2"
   ]
  },
  {
   "cell_type": "code",
   "execution_count": 8,
   "metadata": {},
   "outputs": [
    {
     "name": "stdout",
     "output_type": "stream",
     "text": [
      "输入一个数：2\n"
     ]
    },
    {
     "data": {
      "text/plain": [
       "2"
      ]
     },
     "execution_count": 8,
     "metadata": {},
     "output_type": "execute_result"
    }
   ],
   "source": [
    "def sumDigits(n):\n",
    "    g=n%10\n",
    "    s=n//10%10\n",
    "    b=n//100\n",
    "    sum=g+s+b\n",
    "    return sum\n",
    "n=int(input('输入一个数：'))\n",
    "sumDigits(n)"
   ]
  },
  {
   "cell_type": "markdown",
   "metadata": {},
   "source": [
    "3"
   ]
  },
  {
   "cell_type": "code",
   "execution_count": 9,
   "metadata": {},
   "outputs": [
    {
     "name": "stdout",
     "output_type": "stream",
     "text": [
      "[3, 4, 5]\n"
     ]
    }
   ],
   "source": [
    "def displaySortedNumbers(num1,num2,num3):\n",
    "    res = [num1,num2,num3]\n",
    "    res.sort()#排序，默认以升序，reverse:翻转\n",
    "    print(res)\n",
    "displaySortedNumbers(3,5,4)\n"
   ]
  },
  {
   "cell_type": "markdown",
   "metadata": {},
   "source": [
    "4"
   ]
  },
  {
   "cell_type": "code",
   "execution_count": null,
   "metadata": {},
   "outputs": [],
   "source": [
    "def future_value(present_value,annual_rate,  periods_per_year,  years):\n",
    "    \n",
    "    for i in range(1,years+1):\n",
    "        rate_per_period = annual_rate / periods_per_year\n",
    "        periods = periods_per_year * i\n",
    "        print('%d   %.2f'% (i,present_value*((1+rate_per_period)**periods))) \n",
    "present_value=int(input('本金是：'))\n",
    "annual_rate=float(input('年利率是：'))\n",
    "periods_per_year=int(input('每年的计息周期数是：'))\n",
    "years=int(input('存款年限：'))\n",
    "future_value(present_value,annual_rate,  periods_per_year,  years)"
   ]
  },
  {
   "cell_type": "markdown",
   "metadata": {},
   "source": [
    "5"
   ]
  },
  {
   "cell_type": "code",
   "execution_count": null,
   "metadata": {},
   "outputs": [],
   "source": []
  },
  {
   "cell_type": "markdown",
   "metadata": {},
   "source": [
    "6"
   ]
  },
  {
   "cell_type": "code",
   "execution_count": 7,
   "metadata": {},
   "outputs": [
    {
     "name": "stdout",
     "output_type": "stream",
     "text": [
      "2010年有365天\n",
      "2011年有365天\n",
      "2012年有366天\n",
      "2013年有365天\n",
      "2014年有365天\n",
      "2015年有365天\n",
      "2016年有366天\n",
      "2017年有365天\n",
      "2018年有365天\n",
      "2019年有365天\n",
      "2020年有366天\n"
     ]
    }
   ],
   "source": [
    "def numberOfDayInYear():\n",
    "    c=31+28+31+30+31+30+31+31+30+31+30+31\n",
    "    for year in range(2010,2021,1): \n",
    "        i=year\n",
    "        if year % 4 == 0 and  year % 100 != 0 or year % 400 == 0:\n",
    "            print('%d年有%d天'%(i,c+1)) \n",
    "        else:\n",
    "            print ('%d年有%d天'%(i,c))  \n",
    "numberOfDayInYear()"
   ]
  },
  {
   "cell_type": "markdown",
   "metadata": {},
   "source": [
    " 7"
   ]
  },
  {
   "cell_type": "code",
   "execution_count": null,
   "metadata": {},
   "outputs": [],
   "source": [
    "import math\n",
    "def distance(x1,y1,x2,y2):\n",
    "    a=x2-x1\n",
    "    b=y2-y1\n",
    "    c=math.sqrt((a**2)+(b**2))\n",
    "    return c\n",
    "x1,y1,x2,y2=map(int,input('请输入坐标:').split())\n",
    "distance(x1,y1,x2,y2)"
   ]
  },
  {
   "cell_type": "markdown",
   "metadata": {},
   "source": [
    "8"
   ]
  },
  {
   "cell_type": "code",
   "execution_count": 2,
   "metadata": {},
   "outputs": [],
   "source": [
    "import math\n",
    "def prime():\n",
    "    num=[]\n",
    "    i=2\n",
    "    for i in range(2,32):\n",
    "        j=2\n",
    "        for j in range(2,i):\n",
    "            if(i%j==0):\n",
    "                break\n",
    "        else:\n",
    "            num.append(i)\n",
    "    return num\n",
    "def misen():\n",
    "    print('p        2^p-1')\n",
    "    a=prime()\n",
    "    for p in range(1,32):\n",
    "        for i in range(11):\n",
    "            if (2**p)-1==a[i]:\n",
    "                print(\"%d         %d\" %(p,a[i]))"
   ]
  },
  {
   "cell_type": "markdown",
   "metadata": {},
   "source": [
    "9"
   ]
  },
  {
   "cell_type": "code",
   "execution_count": 3,
   "metadata": {},
   "outputs": [
    {
     "name": "stdout",
     "output_type": "stream",
     "text": [
      "本地时间为 : Thu Aug  8 20:01:45 2019\n"
     ]
    }
   ],
   "source": [
    "import time\n",
    "localtime = time.asctime(time.localtime(time.time()))\n",
    "print(\"本地时间为 :\", localtime)"
   ]
  },
  {
   "cell_type": "code",
   "execution_count": null,
   "metadata": {},
   "outputs": [],
   "source": []
  }
 ],
 "metadata": {
  "kernelspec": {
   "display_name": "Python 3",
   "language": "python",
   "name": "python3"
  },
  "language_info": {
   "codemirror_mode": {
    "name": "ipython",
    "version": 3
   },
   "file_extension": ".py",
   "mimetype": "text/x-python",
   "name": "python",
   "nbconvert_exporter": "python",
   "pygments_lexer": "ipython3",
   "version": "3.7.3"
  }
 },
 "nbformat": 4,
 "nbformat_minor": 2
}
